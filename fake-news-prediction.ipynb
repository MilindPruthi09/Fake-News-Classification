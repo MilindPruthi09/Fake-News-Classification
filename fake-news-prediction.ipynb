{
 "cells": [
  {
   "cell_type": "markdown",
   "id": "c23ac774",
   "metadata": {
    "papermill": {
     "duration": 0.009516,
     "end_time": "2024-08-29T09:11:43.586041",
     "exception": false,
     "start_time": "2024-08-29T09:11:43.576525",
     "status": "completed"
    },
    "tags": []
   },
   "source": [
    "# Dataset Description\n",
    "## train.csv: A full training dataset with the following attributes:\n",
    "\n",
    "1. #### id: unique id for a news article\n",
    "2. #### title: the title of a news article\n",
    "3. #### author: author of the news article\n",
    "4. #### text: the text of the article; could be incomplete\n",
    "5. #### label: a label that marks the article as potentially unreliable\n",
    "###### 1: unreliable\n",
    "###### 0: reliable"
   ]
  },
  {
   "cell_type": "code",
   "execution_count": 1,
   "id": "8fd1f399",
   "metadata": {
    "execution": {
     "iopub.execute_input": "2024-08-29T09:11:43.606260Z",
     "iopub.status.busy": "2024-08-29T09:11:43.605810Z",
     "iopub.status.idle": "2024-08-29T09:11:46.377607Z",
     "shell.execute_reply": "2024-08-29T09:11:46.376319Z"
    },
    "papermill": {
     "duration": 2.785178,
     "end_time": "2024-08-29T09:11:46.380280",
     "exception": false,
     "start_time": "2024-08-29T09:11:43.595102",
     "status": "completed"
    },
    "tags": []
   },
   "outputs": [],
   "source": [
    "import pandas as pd\n",
    "import numpy as np\n",
    "import re\n",
    "from nltk.corpus import stopwords\n",
    "from nltk.stem.porter import PorterStemmer\n",
    "from sklearn.feature_extraction.text import TfidfVectorizer\n",
    "from sklearn.model_selection import train_test_split\n",
    "from sklearn.linear_model import LogisticRegression\n",
    "from sklearn.metrics import accuracy_score"
   ]
  },
  {
   "cell_type": "code",
   "execution_count": 2,
   "id": "725aa3e1",
   "metadata": {
    "execution": {
     "iopub.execute_input": "2024-08-29T09:11:46.400626Z",
     "iopub.status.busy": "2024-08-29T09:11:46.399862Z",
     "iopub.status.idle": "2024-08-29T09:11:46.642763Z",
     "shell.execute_reply": "2024-08-29T09:11:46.641582Z"
    },
    "papermill": {
     "duration": 0.256538,
     "end_time": "2024-08-29T09:11:46.645930",
     "exception": false,
     "start_time": "2024-08-29T09:11:46.389392",
     "status": "completed"
    },
    "tags": []
   },
   "outputs": [
    {
     "name": "stdout",
     "output_type": "stream",
     "text": [
      "[nltk_data] Downloading package stopwords to /usr/share/nltk_data...\n",
      "[nltk_data]   Package stopwords is already up-to-date!\n"
     ]
    },
    {
     "data": {
      "text/plain": [
       "True"
      ]
     },
     "execution_count": 2,
     "metadata": {},
     "output_type": "execute_result"
    }
   ],
   "source": [
    "import nltk\n",
    "nltk.download(\"stopwords\")"
   ]
  },
  {
   "cell_type": "code",
   "execution_count": 3,
   "id": "3e5b0824",
   "metadata": {
    "execution": {
     "iopub.execute_input": "2024-08-29T09:11:46.667187Z",
     "iopub.status.busy": "2024-08-29T09:11:46.666721Z",
     "iopub.status.idle": "2024-08-29T09:11:46.676365Z",
     "shell.execute_reply": "2024-08-29T09:11:46.675074Z"
    },
    "papermill": {
     "duration": 0.022922,
     "end_time": "2024-08-29T09:11:46.678894",
     "exception": false,
     "start_time": "2024-08-29T09:11:46.655972",
     "status": "completed"
    },
    "tags": []
   },
   "outputs": [
    {
     "name": "stdout",
     "output_type": "stream",
     "text": [
      "['i', 'me', 'my', 'myself', 'we', 'our', 'ours', 'ourselves', 'you', \"you're\", \"you've\", \"you'll\", \"you'd\", 'your', 'yours', 'yourself', 'yourselves', 'he', 'him', 'his', 'himself', 'she', \"she's\", 'her', 'hers', 'herself', 'it', \"it's\", 'its', 'itself', 'they', 'them', 'their', 'theirs', 'themselves', 'what', 'which', 'who', 'whom', 'this', 'that', \"that'll\", 'these', 'those', 'am', 'is', 'are', 'was', 'were', 'be', 'been', 'being', 'have', 'has', 'had', 'having', 'do', 'does', 'did', 'doing', 'a', 'an', 'the', 'and', 'but', 'if', 'or', 'because', 'as', 'until', 'while', 'of', 'at', 'by', 'for', 'with', 'about', 'against', 'between', 'into', 'through', 'during', 'before', 'after', 'above', 'below', 'to', 'from', 'up', 'down', 'in', 'out', 'on', 'off', 'over', 'under', 'again', 'further', 'then', 'once', 'here', 'there', 'when', 'where', 'why', 'how', 'all', 'any', 'both', 'each', 'few', 'more', 'most', 'other', 'some', 'such', 'no', 'nor', 'not', 'only', 'own', 'same', 'so', 'than', 'too', 'very', 's', 't', 'can', 'will', 'just', 'don', \"don't\", 'should', \"should've\", 'now', 'd', 'll', 'm', 'o', 're', 've', 'y', 'ain', 'aren', \"aren't\", 'couldn', \"couldn't\", 'didn', \"didn't\", 'doesn', \"doesn't\", 'hadn', \"hadn't\", 'hasn', \"hasn't\", 'haven', \"haven't\", 'isn', \"isn't\", 'ma', 'mightn', \"mightn't\", 'mustn', \"mustn't\", 'needn', \"needn't\", 'shan', \"shan't\", 'shouldn', \"shouldn't\", 'wasn', \"wasn't\", 'weren', \"weren't\", 'won', \"won't\", 'wouldn', \"wouldn't\"]\n"
     ]
    }
   ],
   "source": [
    "# printing the stopwords\n",
    "print(stopwords.words('english'))"
   ]
  },
  {
   "cell_type": "markdown",
   "id": "2ce92ee7",
   "metadata": {
    "papermill": {
     "duration": 0.008998,
     "end_time": "2024-08-29T09:11:46.697237",
     "exception": false,
     "start_time": "2024-08-29T09:11:46.688239",
     "status": "completed"
    },
    "tags": []
   },
   "source": [
    "# Data Collection and Pre processing"
   ]
  },
  {
   "cell_type": "code",
   "execution_count": 4,
   "id": "0d3e62c7",
   "metadata": {
    "execution": {
     "iopub.execute_input": "2024-08-29T09:11:46.717818Z",
     "iopub.status.busy": "2024-08-29T09:11:46.717387Z",
     "iopub.status.idle": "2024-08-29T09:11:50.333915Z",
     "shell.execute_reply": "2024-08-29T09:11:50.332649Z"
    },
    "papermill": {
     "duration": 3.630119,
     "end_time": "2024-08-29T09:11:50.336682",
     "exception": false,
     "start_time": "2024-08-29T09:11:46.706563",
     "status": "completed"
    },
    "tags": []
   },
   "outputs": [
    {
     "data": {
      "text/html": [
       "<div>\n",
       "<style scoped>\n",
       "    .dataframe tbody tr th:only-of-type {\n",
       "        vertical-align: middle;\n",
       "    }\n",
       "\n",
       "    .dataframe tbody tr th {\n",
       "        vertical-align: top;\n",
       "    }\n",
       "\n",
       "    .dataframe thead th {\n",
       "        text-align: right;\n",
       "    }\n",
       "</style>\n",
       "<table border=\"1\" class=\"dataframe\">\n",
       "  <thead>\n",
       "    <tr style=\"text-align: right;\">\n",
       "      <th></th>\n",
       "      <th>id</th>\n",
       "      <th>title</th>\n",
       "      <th>author</th>\n",
       "      <th>text</th>\n",
       "      <th>label</th>\n",
       "    </tr>\n",
       "  </thead>\n",
       "  <tbody>\n",
       "    <tr>\n",
       "      <th>0</th>\n",
       "      <td>0</td>\n",
       "      <td>House Dem Aide: We Didn’t Even See Comey’s Let...</td>\n",
       "      <td>Darrell Lucus</td>\n",
       "      <td>House Dem Aide: We Didn’t Even See Comey’s Let...</td>\n",
       "      <td>1</td>\n",
       "    </tr>\n",
       "    <tr>\n",
       "      <th>1</th>\n",
       "      <td>1</td>\n",
       "      <td>FLYNN: Hillary Clinton, Big Woman on Campus - ...</td>\n",
       "      <td>Daniel J. Flynn</td>\n",
       "      <td>Ever get the feeling your life circles the rou...</td>\n",
       "      <td>0</td>\n",
       "    </tr>\n",
       "    <tr>\n",
       "      <th>2</th>\n",
       "      <td>2</td>\n",
       "      <td>Why the Truth Might Get You Fired</td>\n",
       "      <td>Consortiumnews.com</td>\n",
       "      <td>Why the Truth Might Get You Fired October 29, ...</td>\n",
       "      <td>1</td>\n",
       "    </tr>\n",
       "    <tr>\n",
       "      <th>3</th>\n",
       "      <td>3</td>\n",
       "      <td>15 Civilians Killed In Single US Airstrike Hav...</td>\n",
       "      <td>Jessica Purkiss</td>\n",
       "      <td>Videos 15 Civilians Killed In Single US Airstr...</td>\n",
       "      <td>1</td>\n",
       "    </tr>\n",
       "    <tr>\n",
       "      <th>4</th>\n",
       "      <td>4</td>\n",
       "      <td>Iranian woman jailed for fictional unpublished...</td>\n",
       "      <td>Howard Portnoy</td>\n",
       "      <td>Print \\nAn Iranian woman has been sentenced to...</td>\n",
       "      <td>1</td>\n",
       "    </tr>\n",
       "  </tbody>\n",
       "</table>\n",
       "</div>"
      ],
      "text/plain": [
       "   id                                              title              author  \\\n",
       "0   0  House Dem Aide: We Didn’t Even See Comey’s Let...       Darrell Lucus   \n",
       "1   1  FLYNN: Hillary Clinton, Big Woman on Campus - ...     Daniel J. Flynn   \n",
       "2   2                  Why the Truth Might Get You Fired  Consortiumnews.com   \n",
       "3   3  15 Civilians Killed In Single US Airstrike Hav...     Jessica Purkiss   \n",
       "4   4  Iranian woman jailed for fictional unpublished...      Howard Portnoy   \n",
       "\n",
       "                                                text  label  \n",
       "0  House Dem Aide: We Didn’t Even See Comey’s Let...      1  \n",
       "1  Ever get the feeling your life circles the rou...      0  \n",
       "2  Why the Truth Might Get You Fired October 29, ...      1  \n",
       "3  Videos 15 Civilians Killed In Single US Airstr...      1  \n",
       "4  Print \\nAn Iranian woman has been sentenced to...      1  "
      ]
     },
     "execution_count": 4,
     "metadata": {},
     "output_type": "execute_result"
    }
   ],
   "source": [
    "data=pd.read_csv(\"/kaggle/input/fake-news/train.csv\")\n",
    "test_data=pd.read_csv(\"/kaggle/input/fake-news/test.csv\")\n",
    "test_data_id=test_data['id']\n",
    "data.head()"
   ]
  },
  {
   "cell_type": "code",
   "execution_count": 5,
   "id": "e9603410",
   "metadata": {
    "execution": {
     "iopub.execute_input": "2024-08-29T09:11:50.358735Z",
     "iopub.status.busy": "2024-08-29T09:11:50.358335Z",
     "iopub.status.idle": "2024-08-29T09:11:50.365670Z",
     "shell.execute_reply": "2024-08-29T09:11:50.364341Z"
    },
    "papermill": {
     "duration": 0.021281,
     "end_time": "2024-08-29T09:11:50.368167",
     "exception": false,
     "start_time": "2024-08-29T09:11:50.346886",
     "status": "completed"
    },
    "tags": []
   },
   "outputs": [
    {
     "data": {
      "text/plain": [
       "(5200, 4)"
      ]
     },
     "execution_count": 5,
     "metadata": {},
     "output_type": "execute_result"
    }
   ],
   "source": [
    "test_data.shape"
   ]
  },
  {
   "cell_type": "code",
   "execution_count": 6,
   "id": "94adfbdd",
   "metadata": {
    "execution": {
     "iopub.execute_input": "2024-08-29T09:11:50.389164Z",
     "iopub.status.busy": "2024-08-29T09:11:50.388740Z",
     "iopub.status.idle": "2024-08-29T09:11:50.406098Z",
     "shell.execute_reply": "2024-08-29T09:11:50.404898Z"
    },
    "papermill": {
     "duration": 0.030699,
     "end_time": "2024-08-29T09:11:50.408512",
     "exception": false,
     "start_time": "2024-08-29T09:11:50.377813",
     "status": "completed"
    },
    "tags": []
   },
   "outputs": [
    {
     "data": {
      "text/plain": [
       "id           0\n",
       "title      558\n",
       "author    1957\n",
       "text        39\n",
       "label        0\n",
       "dtype: int64"
      ]
     },
     "execution_count": 6,
     "metadata": {},
     "output_type": "execute_result"
    }
   ],
   "source": [
    "data.isnull().sum()"
   ]
  },
  {
   "cell_type": "code",
   "execution_count": 7,
   "id": "345bfda4",
   "metadata": {
    "execution": {
     "iopub.execute_input": "2024-08-29T09:11:50.429965Z",
     "iopub.status.busy": "2024-08-29T09:11:50.429510Z",
     "iopub.status.idle": "2024-08-29T09:11:50.441159Z",
     "shell.execute_reply": "2024-08-29T09:11:50.439894Z"
    },
    "papermill": {
     "duration": 0.025915,
     "end_time": "2024-08-29T09:11:50.444134",
     "exception": false,
     "start_time": "2024-08-29T09:11:50.418219",
     "status": "completed"
    },
    "tags": []
   },
   "outputs": [
    {
     "data": {
      "text/plain": [
       "id          0\n",
       "title     122\n",
       "author    503\n",
       "text        7\n",
       "dtype: int64"
      ]
     },
     "execution_count": 7,
     "metadata": {},
     "output_type": "execute_result"
    }
   ],
   "source": [
    "test_data.isnull().sum()"
   ]
  },
  {
   "cell_type": "code",
   "execution_count": 8,
   "id": "77164bee",
   "metadata": {
    "execution": {
     "iopub.execute_input": "2024-08-29T09:11:50.472700Z",
     "iopub.status.busy": "2024-08-29T09:11:50.472212Z",
     "iopub.status.idle": "2024-08-29T09:11:50.497900Z",
     "shell.execute_reply": "2024-08-29T09:11:50.496259Z"
    },
    "papermill": {
     "duration": 0.043979,
     "end_time": "2024-08-29T09:11:50.501091",
     "exception": false,
     "start_time": "2024-08-29T09:11:50.457112",
     "status": "completed"
    },
    "tags": []
   },
   "outputs": [],
   "source": [
    "# replacing the null values in dataset with empty string.\n",
    "data.fillna('', inplace=True)\n",
    "test_data.fillna('', inplace=True)"
   ]
  },
  {
   "cell_type": "code",
   "execution_count": 9,
   "id": "56ddb601",
   "metadata": {
    "execution": {
     "iopub.execute_input": "2024-08-29T09:11:50.527369Z",
     "iopub.status.busy": "2024-08-29T09:11:50.526285Z",
     "iopub.status.idle": "2024-08-29T09:11:50.554155Z",
     "shell.execute_reply": "2024-08-29T09:11:50.552651Z"
    },
    "papermill": {
     "duration": 0.042785,
     "end_time": "2024-08-29T09:11:50.557722",
     "exception": false,
     "start_time": "2024-08-29T09:11:50.514937",
     "status": "completed"
    },
    "tags": []
   },
   "outputs": [
    {
     "data": {
      "text/html": [
       "<div>\n",
       "<style scoped>\n",
       "    .dataframe tbody tr th:only-of-type {\n",
       "        vertical-align: middle;\n",
       "    }\n",
       "\n",
       "    .dataframe tbody tr th {\n",
       "        vertical-align: top;\n",
       "    }\n",
       "\n",
       "    .dataframe thead th {\n",
       "        text-align: right;\n",
       "    }\n",
       "</style>\n",
       "<table border=\"1\" class=\"dataframe\">\n",
       "  <thead>\n",
       "    <tr style=\"text-align: right;\">\n",
       "      <th></th>\n",
       "      <th>id</th>\n",
       "      <th>title</th>\n",
       "      <th>author</th>\n",
       "      <th>text</th>\n",
       "      <th>label</th>\n",
       "      <th>content</th>\n",
       "    </tr>\n",
       "  </thead>\n",
       "  <tbody>\n",
       "    <tr>\n",
       "      <th>0</th>\n",
       "      <td>0</td>\n",
       "      <td>House Dem Aide: We Didn’t Even See Comey’s Let...</td>\n",
       "      <td>Darrell Lucus</td>\n",
       "      <td>House Dem Aide: We Didn’t Even See Comey’s Let...</td>\n",
       "      <td>1</td>\n",
       "      <td>Darrell Lucus House Dem Aide: We Didn’t Even S...</td>\n",
       "    </tr>\n",
       "    <tr>\n",
       "      <th>1</th>\n",
       "      <td>1</td>\n",
       "      <td>FLYNN: Hillary Clinton, Big Woman on Campus - ...</td>\n",
       "      <td>Daniel J. Flynn</td>\n",
       "      <td>Ever get the feeling your life circles the rou...</td>\n",
       "      <td>0</td>\n",
       "      <td>Daniel J. Flynn FLYNN: Hillary Clinton, Big Wo...</td>\n",
       "    </tr>\n",
       "    <tr>\n",
       "      <th>2</th>\n",
       "      <td>2</td>\n",
       "      <td>Why the Truth Might Get You Fired</td>\n",
       "      <td>Consortiumnews.com</td>\n",
       "      <td>Why the Truth Might Get You Fired October 29, ...</td>\n",
       "      <td>1</td>\n",
       "      <td>Consortiumnews.com Why the Truth Might Get You...</td>\n",
       "    </tr>\n",
       "    <tr>\n",
       "      <th>3</th>\n",
       "      <td>3</td>\n",
       "      <td>15 Civilians Killed In Single US Airstrike Hav...</td>\n",
       "      <td>Jessica Purkiss</td>\n",
       "      <td>Videos 15 Civilians Killed In Single US Airstr...</td>\n",
       "      <td>1</td>\n",
       "      <td>Jessica Purkiss 15 Civilians Killed In Single ...</td>\n",
       "    </tr>\n",
       "    <tr>\n",
       "      <th>4</th>\n",
       "      <td>4</td>\n",
       "      <td>Iranian woman jailed for fictional unpublished...</td>\n",
       "      <td>Howard Portnoy</td>\n",
       "      <td>Print \\nAn Iranian woman has been sentenced to...</td>\n",
       "      <td>1</td>\n",
       "      <td>Howard Portnoy Iranian woman jailed for fictio...</td>\n",
       "    </tr>\n",
       "  </tbody>\n",
       "</table>\n",
       "</div>"
      ],
      "text/plain": [
       "   id                                              title              author  \\\n",
       "0   0  House Dem Aide: We Didn’t Even See Comey’s Let...       Darrell Lucus   \n",
       "1   1  FLYNN: Hillary Clinton, Big Woman on Campus - ...     Daniel J. Flynn   \n",
       "2   2                  Why the Truth Might Get You Fired  Consortiumnews.com   \n",
       "3   3  15 Civilians Killed In Single US Airstrike Hav...     Jessica Purkiss   \n",
       "4   4  Iranian woman jailed for fictional unpublished...      Howard Portnoy   \n",
       "\n",
       "                                                text  label  \\\n",
       "0  House Dem Aide: We Didn’t Even See Comey’s Let...      1   \n",
       "1  Ever get the feeling your life circles the rou...      0   \n",
       "2  Why the Truth Might Get You Fired October 29, ...      1   \n",
       "3  Videos 15 Civilians Killed In Single US Airstr...      1   \n",
       "4  Print \\nAn Iranian woman has been sentenced to...      1   \n",
       "\n",
       "                                             content  \n",
       "0  Darrell Lucus House Dem Aide: We Didn’t Even S...  \n",
       "1  Daniel J. Flynn FLYNN: Hillary Clinton, Big Wo...  \n",
       "2  Consortiumnews.com Why the Truth Might Get You...  \n",
       "3  Jessica Purkiss 15 Civilians Killed In Single ...  \n",
       "4  Howard Portnoy Iranian woman jailed for fictio...  "
      ]
     },
     "execution_count": 9,
     "metadata": {},
     "output_type": "execute_result"
    }
   ],
   "source": [
    "# merging the title and author column \n",
    "data['content']=data['author']+' '+data['title']\n",
    "test_data['content']=test_data['author']+' '+test_data['title']\n",
    "data.head()"
   ]
  },
  {
   "cell_type": "markdown",
   "id": "b83a3122",
   "metadata": {
    "papermill": {
     "duration": 0.011096,
     "end_time": "2024-08-29T09:11:50.582647",
     "exception": false,
     "start_time": "2024-08-29T09:11:50.571551",
     "status": "completed"
    },
    "tags": []
   },
   "source": [
    "# Stemming"
   ]
  },
  {
   "cell_type": "code",
   "execution_count": 10,
   "id": "f7cd3a67",
   "metadata": {
    "execution": {
     "iopub.execute_input": "2024-08-29T09:11:50.610530Z",
     "iopub.status.busy": "2024-08-29T09:11:50.609945Z",
     "iopub.status.idle": "2024-08-29T09:11:50.615306Z",
     "shell.execute_reply": "2024-08-29T09:11:50.614175Z"
    },
    "papermill": {
     "duration": 0.021008,
     "end_time": "2024-08-29T09:11:50.618530",
     "exception": false,
     "start_time": "2024-08-29T09:11:50.597522",
     "status": "completed"
    },
    "tags": []
   },
   "outputs": [],
   "source": [
    "port_stem=PorterStemmer()"
   ]
  },
  {
   "cell_type": "code",
   "execution_count": 11,
   "id": "5ef46a51",
   "metadata": {
    "execution": {
     "iopub.execute_input": "2024-08-29T09:11:50.646817Z",
     "iopub.status.busy": "2024-08-29T09:11:50.645963Z",
     "iopub.status.idle": "2024-08-29T09:11:50.652408Z",
     "shell.execute_reply": "2024-08-29T09:11:50.651346Z"
    },
    "papermill": {
     "duration": 0.022239,
     "end_time": "2024-08-29T09:11:50.654688",
     "exception": false,
     "start_time": "2024-08-29T09:11:50.632449",
     "status": "completed"
    },
    "tags": []
   },
   "outputs": [],
   "source": [
    "def stemming(content):\n",
    "    stemmed_content=re.sub('[^a-zA-Z]', ' ', content)\n",
    "    stemmed_content=stemmed_content.lower()\n",
    "    stemmed_content=stemmed_content.split()\n",
    "    stemmed_content=[port_stem.stem(word) for word in stemmed_content if not word in stopwords.words('english')]\n",
    "    stemmed_content=' '.join(stemmed_content)\n",
    "    return stemmed_content"
   ]
  },
  {
   "cell_type": "code",
   "execution_count": 12,
   "id": "568fd891",
   "metadata": {
    "execution": {
     "iopub.execute_input": "2024-08-29T09:11:50.676468Z",
     "iopub.status.busy": "2024-08-29T09:11:50.676049Z",
     "iopub.status.idle": "2024-08-29T09:12:45.246936Z",
     "shell.execute_reply": "2024-08-29T09:12:45.245746Z"
    },
    "papermill": {
     "duration": 54.585092,
     "end_time": "2024-08-29T09:12:45.249717",
     "exception": false,
     "start_time": "2024-08-29T09:11:50.664625",
     "status": "completed"
    },
    "tags": []
   },
   "outputs": [],
   "source": [
    "data['content']=data['content'].apply(stemming)\n",
    "test_data['content']=test_data['content'].apply(stemming)"
   ]
  },
  {
   "cell_type": "code",
   "execution_count": 13,
   "id": "a71ad951",
   "metadata": {
    "execution": {
     "iopub.execute_input": "2024-08-29T09:12:45.271657Z",
     "iopub.status.busy": "2024-08-29T09:12:45.271145Z",
     "iopub.status.idle": "2024-08-29T09:12:45.280490Z",
     "shell.execute_reply": "2024-08-29T09:12:45.279422Z"
    },
    "papermill": {
     "duration": 0.022901,
     "end_time": "2024-08-29T09:12:45.282747",
     "exception": false,
     "start_time": "2024-08-29T09:12:45.259846",
     "status": "completed"
    },
    "tags": []
   },
   "outputs": [
    {
     "data": {
      "text/plain": [
       "0       david streitfeld specter trump loosen tongu pu...\n",
       "1       russian warship readi strike terrorist near al...\n",
       "2       common dream nodapl nativ american leader vow ...\n",
       "3       daniel victor tim tebow attempt anoth comeback...\n",
       "4        truth broadcast network keiser report meme war e\n",
       "                              ...                        \n",
       "5195    jodi rosen bangladeshi traffic jam never end n...\n",
       "5196    sheryl gay stolberg john kasich sign one abort...\n",
       "5197    mike mcphate california today exactli sushi ne...\n",
       "5198                us marin deploy russian border norway\n",
       "5199        teddi wayn awkward sex onscreen new york time\n",
       "Name: content, Length: 5200, dtype: object"
      ]
     },
     "execution_count": 13,
     "metadata": {},
     "output_type": "execute_result"
    }
   ],
   "source": [
    "test_data['content']"
   ]
  },
  {
   "cell_type": "code",
   "execution_count": 14,
   "id": "a56c7699",
   "metadata": {
    "execution": {
     "iopub.execute_input": "2024-08-29T09:12:45.305341Z",
     "iopub.status.busy": "2024-08-29T09:12:45.304869Z",
     "iopub.status.idle": "2024-08-29T09:12:45.310809Z",
     "shell.execute_reply": "2024-08-29T09:12:45.309384Z"
    },
    "papermill": {
     "duration": 0.020442,
     "end_time": "2024-08-29T09:12:45.313246",
     "exception": false,
     "start_time": "2024-08-29T09:12:45.292804",
     "status": "completed"
    },
    "tags": []
   },
   "outputs": [],
   "source": [
    "# seperating target variable and independent variables.\n",
    "\n",
    "X=data['content'].values\n",
    "y=data['label'].values"
   ]
  },
  {
   "cell_type": "code",
   "execution_count": 15,
   "id": "921147db",
   "metadata": {
    "execution": {
     "iopub.execute_input": "2024-08-29T09:12:45.336207Z",
     "iopub.status.busy": "2024-08-29T09:12:45.334905Z",
     "iopub.status.idle": "2024-08-29T09:12:45.341262Z",
     "shell.execute_reply": "2024-08-29T09:12:45.340073Z"
    },
    "papermill": {
     "duration": 0.020389,
     "end_time": "2024-08-29T09:12:45.343866",
     "exception": false,
     "start_time": "2024-08-29T09:12:45.323477",
     "status": "completed"
    },
    "tags": []
   },
   "outputs": [
    {
     "name": "stdout",
     "output_type": "stream",
     "text": [
      "['darrel lucu hous dem aid even see comey letter jason chaffetz tweet'\n",
      " 'daniel j flynn flynn hillari clinton big woman campu breitbart'\n",
      " 'consortiumnew com truth might get fire' ...\n",
      " 'michael j de la merc rachel abram maci said receiv takeov approach hudson bay new york time'\n",
      " 'alex ansari nato russia hold parallel exercis balkan'\n",
      " 'david swanson keep f aliv']\n"
     ]
    }
   ],
   "source": [
    "print(X)"
   ]
  },
  {
   "cell_type": "code",
   "execution_count": 16,
   "id": "0e1cd928",
   "metadata": {
    "execution": {
     "iopub.execute_input": "2024-08-29T09:12:45.368753Z",
     "iopub.status.busy": "2024-08-29T09:12:45.367902Z",
     "iopub.status.idle": "2024-08-29T09:12:45.373166Z",
     "shell.execute_reply": "2024-08-29T09:12:45.371992Z"
    },
    "papermill": {
     "duration": 0.019972,
     "end_time": "2024-08-29T09:12:45.375461",
     "exception": false,
     "start_time": "2024-08-29T09:12:45.355489",
     "status": "completed"
    },
    "tags": []
   },
   "outputs": [],
   "source": [
    "X_test_val=test_data['content'].values"
   ]
  },
  {
   "cell_type": "code",
   "execution_count": 17,
   "id": "5d9e8896",
   "metadata": {
    "execution": {
     "iopub.execute_input": "2024-08-29T09:12:45.398471Z",
     "iopub.status.busy": "2024-08-29T09:12:45.397415Z",
     "iopub.status.idle": "2024-08-29T09:12:45.969680Z",
     "shell.execute_reply": "2024-08-29T09:12:45.968365Z"
    },
    "papermill": {
     "duration": 0.586432,
     "end_time": "2024-08-29T09:12:45.972213",
     "exception": false,
     "start_time": "2024-08-29T09:12:45.385781",
     "status": "completed"
    },
    "tags": []
   },
   "outputs": [
    {
     "name": "stdout",
     "output_type": "stream",
     "text": [
      "<Compressed Sparse Row sparse matrix of dtype 'float64'\n",
      "\twith 210687 stored elements and shape (20800, 17128)>\n",
      "  Coords\tValues\n",
      "  (0, 15686)\t0.28485063562728646\n",
      "  (0, 13473)\t0.2565896679337957\n",
      "  (0, 8909)\t0.3635963806326075\n",
      "  (0, 8630)\t0.29212514087043684\n",
      "  (0, 7692)\t0.24785219520671603\n",
      "  (0, 7005)\t0.21874169089359144\n",
      "  (0, 4973)\t0.233316966909351\n",
      "  (0, 3792)\t0.2705332480845492\n",
      "  (0, 3600)\t0.3598939188262559\n",
      "  (0, 2959)\t0.2468450128533713\n",
      "  (0, 2483)\t0.3676519686797209\n",
      "  (0, 267)\t0.27010124977708766\n",
      "  (1, 16799)\t0.30071745655510157\n",
      "  (1, 6816)\t0.1904660198296849\n",
      "  (1, 5503)\t0.7143299355715573\n",
      "  (1, 3568)\t0.26373768806048464\n",
      "  (1, 2813)\t0.19094574062359204\n",
      "  (1, 2223)\t0.3827320386859759\n",
      "  (1, 1894)\t0.15521974226349364\n",
      "  (1, 1497)\t0.2939891562094648\n",
      "  (2, 15611)\t0.41544962664721613\n",
      "  (2, 9620)\t0.49351492943649944\n",
      "  (2, 5968)\t0.3474613386728292\n",
      "  (2, 5389)\t0.3866530551182615\n",
      "  (2, 3103)\t0.46097489583229645\n",
      "  :\t:\n",
      "  (20797, 13122)\t0.2482526352197606\n",
      "  (20797, 12344)\t0.27263457663336677\n",
      "  (20797, 12138)\t0.24778257724396507\n",
      "  (20797, 10306)\t0.08038079000566466\n",
      "  (20797, 9588)\t0.174553480255222\n",
      "  (20797, 9518)\t0.2954204003420313\n",
      "  (20797, 8988)\t0.36160868928090795\n",
      "  (20797, 8364)\t0.22322585870464118\n",
      "  (20797, 7042)\t0.21799048897828688\n",
      "  (20797, 3643)\t0.21155500613623743\n",
      "  (20797, 1287)\t0.33538056804139865\n",
      "  (20797, 699)\t0.30685846079762347\n",
      "  (20797, 43)\t0.29710241860700626\n",
      "  (20798, 13046)\t0.22363267488270608\n",
      "  (20798, 11052)\t0.4460515589182236\n",
      "  (20798, 10177)\t0.3192496370187028\n",
      "  (20798, 6889)\t0.32496285694299426\n",
      "  (20798, 5032)\t0.4083701450239529\n",
      "  (20798, 1125)\t0.4460515589182236\n",
      "  (20798, 588)\t0.3112141524638974\n",
      "  (20798, 350)\t0.28446937819072576\n",
      "  (20799, 14852)\t0.5677577267055112\n",
      "  (20799, 8036)\t0.45983893273780013\n",
      "  (20799, 3623)\t0.37927626273066584\n",
      "  (20799, 377)\t0.5677577267055112\n"
     ]
    }
   ],
   "source": [
    "# converting textual data to numerical data for test\n",
    "vectorizer=TfidfVectorizer()\n",
    "vectorizer.fit(X)\n",
    "\n",
    "X=vectorizer.transform(X)\n",
    "print(X)"
   ]
  },
  {
   "cell_type": "code",
   "execution_count": 18,
   "id": "339558b0",
   "metadata": {
    "execution": {
     "iopub.execute_input": "2024-08-29T09:12:45.995726Z",
     "iopub.status.busy": "2024-08-29T09:12:45.995318Z",
     "iopub.status.idle": "2024-08-29T09:12:46.067677Z",
     "shell.execute_reply": "2024-08-29T09:12:46.066231Z"
    },
    "papermill": {
     "duration": 0.088058,
     "end_time": "2024-08-29T09:12:46.070779",
     "exception": false,
     "start_time": "2024-08-29T09:12:45.982721",
     "status": "completed"
    },
    "tags": []
   },
   "outputs": [
    {
     "name": "stdout",
     "output_type": "stream",
     "text": [
      "<Compressed Sparse Row sparse matrix of dtype 'float64'\n",
      "\twith 50660 stored elements and shape (5200, 17128)>\n",
      "  Coords\tValues\n",
      "  (0, 16996)\t0.08864595251126647\n",
      "  (0, 16088)\t0.3205594987716609\n",
      "  (0, 15582)\t0.11032513315099028\n",
      "  (0, 15368)\t0.38547947461491155\n",
      "  (0, 15295)\t0.08697876504498342\n",
      "  (0, 14605)\t0.3970837204511862\n",
      "  (0, 14591)\t0.34467447913058513\n",
      "  (0, 13850)\t0.32956045112215354\n",
      "  (0, 12030)\t0.38547947461491155\n",
      "  (0, 10306)\t0.08568694729690247\n",
      "  (0, 8842)\t0.36912420870480717\n",
      "  (0, 3623)\t0.209228842739656\n",
      "  (1, 16473)\t0.4921981982038152\n",
      "  (1, 15142)\t0.3550835494981517\n",
      "  (1, 14603)\t0.35559908473568963\n",
      "  (1, 13048)\t0.3052969733971102\n",
      "  (1, 12300)\t0.3838422559012773\n",
      "  (1, 10219)\t0.37818137822242154\n",
      "  (1, 347)\t0.3487744590431239\n",
      "  (2, 16746)\t0.3016628915147435\n",
      "  (2, 16354)\t0.2909537422615255\n",
      "  (2, 14457)\t0.30637021801826614\n",
      "  (2, 11598)\t0.21447077225895875\n",
      "  (2, 10419)\t0.35982822390508096\n",
      "  (2, 10176)\t0.3194727535249622\n",
      "  :\t:\n",
      "  (5196, 5884)\t0.2500401085058591\n",
      "  (5196, 1517)\t0.19940396943572683\n",
      "  (5196, 41)\t0.2656503884474958\n",
      "  (5197, 16996)\t0.11797520134546996\n",
      "  (5197, 15336)\t0.33413616793311524\n",
      "  (5197, 15295)\t0.11575641107424592\n",
      "  (5197, 14827)\t0.5502287050707828\n",
      "  (5197, 10306)\t0.1140371847067236\n",
      "  (5197, 9628)\t0.2914620299435\n",
      "  (5197, 9405)\t0.3763670657730048\n",
      "  (5197, 5005)\t0.4638294166150902\n",
      "  (5197, 2184)\t0.3217750895378809\n",
      "  (5198, 16036)\t0.2897750750203496\n",
      "  (5198, 13048)\t0.3239229606712843\n",
      "  (5198, 10465)\t0.5285950904428587\n",
      "  (5198, 9196)\t0.45384301471017496\n",
      "  (5198, 3857)\t0.45192406838310434\n",
      "  (5198, 1766)\t0.3485436934179841\n",
      "  (5199, 16996)\t0.11981057095223657\n",
      "  (5199, 16501)\t0.5088343621556953\n",
      "  (5199, 15295)\t0.11755726240784027\n",
      "  (5199, 13600)\t0.34031674142822577\n",
      "  (5199, 10713)\t0.5587887501526321\n",
      "  (5199, 10306)\t0.11581128960728698\n",
      "  (5199, 1016)\t0.5209997144326574\n"
     ]
    }
   ],
   "source": [
    "# converting textual data to numerical data\n",
    "X_test_val=vectorizer.transform(X_test_val)\n",
    "print(X_test_val)"
   ]
  },
  {
   "cell_type": "code",
   "execution_count": 19,
   "id": "e070d23a",
   "metadata": {
    "execution": {
     "iopub.execute_input": "2024-08-29T09:12:46.094373Z",
     "iopub.status.busy": "2024-08-29T09:12:46.093936Z",
     "iopub.status.idle": "2024-08-29T09:12:46.101410Z",
     "shell.execute_reply": "2024-08-29T09:12:46.100340Z"
    },
    "papermill": {
     "duration": 0.021992,
     "end_time": "2024-08-29T09:12:46.103922",
     "exception": false,
     "start_time": "2024-08-29T09:12:46.081930",
     "status": "completed"
    },
    "tags": []
   },
   "outputs": [
    {
     "data": {
      "text/plain": [
       "(20800, 17128)"
      ]
     },
     "execution_count": 19,
     "metadata": {},
     "output_type": "execute_result"
    }
   ],
   "source": [
    "X.shape"
   ]
  },
  {
   "cell_type": "code",
   "execution_count": 20,
   "id": "d0575ef4",
   "metadata": {
    "execution": {
     "iopub.execute_input": "2024-08-29T09:12:46.127103Z",
     "iopub.status.busy": "2024-08-29T09:12:46.126677Z",
     "iopub.status.idle": "2024-08-29T09:12:46.134096Z",
     "shell.execute_reply": "2024-08-29T09:12:46.132935Z"
    },
    "papermill": {
     "duration": 0.02191,
     "end_time": "2024-08-29T09:12:46.136597",
     "exception": false,
     "start_time": "2024-08-29T09:12:46.114687",
     "status": "completed"
    },
    "tags": []
   },
   "outputs": [
    {
     "data": {
      "text/plain": [
       "(5200, 17128)"
      ]
     },
     "execution_count": 20,
     "metadata": {},
     "output_type": "execute_result"
    }
   ],
   "source": [
    "X_test_val.shape"
   ]
  },
  {
   "cell_type": "markdown",
   "id": "4276aa2b",
   "metadata": {
    "papermill": {
     "duration": 0.010474,
     "end_time": "2024-08-29T09:12:46.157956",
     "exception": false,
     "start_time": "2024-08-29T09:12:46.147482",
     "status": "completed"
    },
    "tags": []
   },
   "source": [
    "# Splitting data into train test"
   ]
  },
  {
   "cell_type": "code",
   "execution_count": 21,
   "id": "dfa66790",
   "metadata": {
    "execution": {
     "iopub.execute_input": "2024-08-29T09:12:46.181670Z",
     "iopub.status.busy": "2024-08-29T09:12:46.181193Z",
     "iopub.status.idle": "2024-08-29T09:12:46.199147Z",
     "shell.execute_reply": "2024-08-29T09:12:46.197942Z"
    },
    "papermill": {
     "duration": 0.033085,
     "end_time": "2024-08-29T09:12:46.202132",
     "exception": false,
     "start_time": "2024-08-29T09:12:46.169047",
     "status": "completed"
    },
    "tags": []
   },
   "outputs": [],
   "source": [
    "X_train, X_test, y_train, y_test=train_test_split(X, y, test_size=0.2, stratify=y, random_state=2)"
   ]
  },
  {
   "cell_type": "code",
   "execution_count": 22,
   "id": "d0ae5fd2",
   "metadata": {
    "execution": {
     "iopub.execute_input": "2024-08-29T09:12:46.225864Z",
     "iopub.status.busy": "2024-08-29T09:12:46.225429Z",
     "iopub.status.idle": "2024-08-29T09:12:46.231557Z",
     "shell.execute_reply": "2024-08-29T09:12:46.230170Z"
    },
    "papermill": {
     "duration": 0.020875,
     "end_time": "2024-08-29T09:12:46.233893",
     "exception": false,
     "start_time": "2024-08-29T09:12:46.213018",
     "status": "completed"
    },
    "tags": []
   },
   "outputs": [
    {
     "name": "stdout",
     "output_type": "stream",
     "text": [
      "(20800, 17128) (16640, 17128) (4160, 17128)\n"
     ]
    }
   ],
   "source": [
    "print(X.shape, X_train.shape, X_test.shape)"
   ]
  },
  {
   "cell_type": "code",
   "execution_count": 23,
   "id": "060eba16",
   "metadata": {
    "execution": {
     "iopub.execute_input": "2024-08-29T09:12:46.257949Z",
     "iopub.status.busy": "2024-08-29T09:12:46.257534Z",
     "iopub.status.idle": "2024-08-29T09:12:46.262896Z",
     "shell.execute_reply": "2024-08-29T09:12:46.261686Z"
    },
    "papermill": {
     "duration": 0.020669,
     "end_time": "2024-08-29T09:12:46.265440",
     "exception": false,
     "start_time": "2024-08-29T09:12:46.244771",
     "status": "completed"
    },
    "tags": []
   },
   "outputs": [],
   "source": [
    "model=LogisticRegression()"
   ]
  },
  {
   "cell_type": "code",
   "execution_count": 24,
   "id": "7cb742e3",
   "metadata": {
    "execution": {
     "iopub.execute_input": "2024-08-29T09:12:46.289385Z",
     "iopub.status.busy": "2024-08-29T09:12:46.288915Z",
     "iopub.status.idle": "2024-08-29T09:12:48.681366Z",
     "shell.execute_reply": "2024-08-29T09:12:48.679865Z"
    },
    "papermill": {
     "duration": 2.408924,
     "end_time": "2024-08-29T09:12:48.685568",
     "exception": false,
     "start_time": "2024-08-29T09:12:46.276644",
     "status": "completed"
    },
    "tags": []
   },
   "outputs": [
    {
     "data": {
      "text/html": [
       "<style>#sk-container-id-1 {color: black;background-color: white;}#sk-container-id-1 pre{padding: 0;}#sk-container-id-1 div.sk-toggleable {background-color: white;}#sk-container-id-1 label.sk-toggleable__label {cursor: pointer;display: block;width: 100%;margin-bottom: 0;padding: 0.3em;box-sizing: border-box;text-align: center;}#sk-container-id-1 label.sk-toggleable__label-arrow:before {content: \"▸\";float: left;margin-right: 0.25em;color: #696969;}#sk-container-id-1 label.sk-toggleable__label-arrow:hover:before {color: black;}#sk-container-id-1 div.sk-estimator:hover label.sk-toggleable__label-arrow:before {color: black;}#sk-container-id-1 div.sk-toggleable__content {max-height: 0;max-width: 0;overflow: hidden;text-align: left;background-color: #f0f8ff;}#sk-container-id-1 div.sk-toggleable__content pre {margin: 0.2em;color: black;border-radius: 0.25em;background-color: #f0f8ff;}#sk-container-id-1 input.sk-toggleable__control:checked~div.sk-toggleable__content {max-height: 200px;max-width: 100%;overflow: auto;}#sk-container-id-1 input.sk-toggleable__control:checked~label.sk-toggleable__label-arrow:before {content: \"▾\";}#sk-container-id-1 div.sk-estimator input.sk-toggleable__control:checked~label.sk-toggleable__label {background-color: #d4ebff;}#sk-container-id-1 div.sk-label input.sk-toggleable__control:checked~label.sk-toggleable__label {background-color: #d4ebff;}#sk-container-id-1 input.sk-hidden--visually {border: 0;clip: rect(1px 1px 1px 1px);clip: rect(1px, 1px, 1px, 1px);height: 1px;margin: -1px;overflow: hidden;padding: 0;position: absolute;width: 1px;}#sk-container-id-1 div.sk-estimator {font-family: monospace;background-color: #f0f8ff;border: 1px dotted black;border-radius: 0.25em;box-sizing: border-box;margin-bottom: 0.5em;}#sk-container-id-1 div.sk-estimator:hover {background-color: #d4ebff;}#sk-container-id-1 div.sk-parallel-item::after {content: \"\";width: 100%;border-bottom: 1px solid gray;flex-grow: 1;}#sk-container-id-1 div.sk-label:hover label.sk-toggleable__label {background-color: #d4ebff;}#sk-container-id-1 div.sk-serial::before {content: \"\";position: absolute;border-left: 1px solid gray;box-sizing: border-box;top: 0;bottom: 0;left: 50%;z-index: 0;}#sk-container-id-1 div.sk-serial {display: flex;flex-direction: column;align-items: center;background-color: white;padding-right: 0.2em;padding-left: 0.2em;position: relative;}#sk-container-id-1 div.sk-item {position: relative;z-index: 1;}#sk-container-id-1 div.sk-parallel {display: flex;align-items: stretch;justify-content: center;background-color: white;position: relative;}#sk-container-id-1 div.sk-item::before, #sk-container-id-1 div.sk-parallel-item::before {content: \"\";position: absolute;border-left: 1px solid gray;box-sizing: border-box;top: 0;bottom: 0;left: 50%;z-index: -1;}#sk-container-id-1 div.sk-parallel-item {display: flex;flex-direction: column;z-index: 1;position: relative;background-color: white;}#sk-container-id-1 div.sk-parallel-item:first-child::after {align-self: flex-end;width: 50%;}#sk-container-id-1 div.sk-parallel-item:last-child::after {align-self: flex-start;width: 50%;}#sk-container-id-1 div.sk-parallel-item:only-child::after {width: 0;}#sk-container-id-1 div.sk-dashed-wrapped {border: 1px dashed gray;margin: 0 0.4em 0.5em 0.4em;box-sizing: border-box;padding-bottom: 0.4em;background-color: white;}#sk-container-id-1 div.sk-label label {font-family: monospace;font-weight: bold;display: inline-block;line-height: 1.2em;}#sk-container-id-1 div.sk-label-container {text-align: center;}#sk-container-id-1 div.sk-container {/* jupyter's `normalize.less` sets `[hidden] { display: none; }` but bootstrap.min.css set `[hidden] { display: none !important; }` so we also need the `!important` here to be able to override the default hidden behavior on the sphinx rendered scikit-learn.org. See: https://github.com/scikit-learn/scikit-learn/issues/21755 */display: inline-block !important;position: relative;}#sk-container-id-1 div.sk-text-repr-fallback {display: none;}</style><div id=\"sk-container-id-1\" class=\"sk-top-container\"><div class=\"sk-text-repr-fallback\"><pre>LogisticRegression()</pre><b>In a Jupyter environment, please rerun this cell to show the HTML representation or trust the notebook. <br />On GitHub, the HTML representation is unable to render, please try loading this page with nbviewer.org.</b></div><div class=\"sk-container\" hidden><div class=\"sk-item\"><div class=\"sk-estimator sk-toggleable\"><input class=\"sk-toggleable__control sk-hidden--visually\" id=\"sk-estimator-id-1\" type=\"checkbox\" checked><label for=\"sk-estimator-id-1\" class=\"sk-toggleable__label sk-toggleable__label-arrow\">LogisticRegression</label><div class=\"sk-toggleable__content\"><pre>LogisticRegression()</pre></div></div></div></div></div>"
      ],
      "text/plain": [
       "LogisticRegression()"
      ]
     },
     "execution_count": 24,
     "metadata": {},
     "output_type": "execute_result"
    }
   ],
   "source": [
    "model.fit(X_train, y_train)"
   ]
  },
  {
   "cell_type": "code",
   "execution_count": 25,
   "id": "9ac79268",
   "metadata": {
    "execution": {
     "iopub.execute_input": "2024-08-29T09:12:48.756850Z",
     "iopub.status.busy": "2024-08-29T09:12:48.756384Z",
     "iopub.status.idle": "2024-08-29T09:12:48.765476Z",
     "shell.execute_reply": "2024-08-29T09:12:48.764425Z"
    },
    "papermill": {
     "duration": 0.040277,
     "end_time": "2024-08-29T09:12:48.767939",
     "exception": false,
     "start_time": "2024-08-29T09:12:48.727662",
     "status": "completed"
    },
    "tags": []
   },
   "outputs": [
    {
     "data": {
      "text/plain": [
       "array([1, 0, 1, ..., 1, 1, 0])"
      ]
     },
     "execution_count": 25,
     "metadata": {},
     "output_type": "execute_result"
    }
   ],
   "source": [
    "y_pred=model.predict(X_test)\n",
    "y_pred"
   ]
  },
  {
   "cell_type": "markdown",
   "id": "231414e5",
   "metadata": {
    "papermill": {
     "duration": 0.012093,
     "end_time": "2024-08-29T09:12:48.791693",
     "exception": false,
     "start_time": "2024-08-29T09:12:48.779600",
     "status": "completed"
    },
    "tags": []
   },
   "source": [
    "# Accuracy Score"
   ]
  },
  {
   "cell_type": "code",
   "execution_count": 26,
   "id": "00b33ee3",
   "metadata": {
    "execution": {
     "iopub.execute_input": "2024-08-29T09:12:48.821966Z",
     "iopub.status.busy": "2024-08-29T09:12:48.821535Z",
     "iopub.status.idle": "2024-08-29T09:12:48.829709Z",
     "shell.execute_reply": "2024-08-29T09:12:48.828489Z"
    },
    "papermill": {
     "duration": 0.028149,
     "end_time": "2024-08-29T09:12:48.832193",
     "exception": false,
     "start_time": "2024-08-29T09:12:48.804044",
     "status": "completed"
    },
    "tags": []
   },
   "outputs": [
    {
     "name": "stdout",
     "output_type": "stream",
     "text": [
      "Accuracy on test data:  0.9790865384615385\n"
     ]
    }
   ],
   "source": [
    "accuracy=accuracy_score(y_pred, y_test)\n",
    "print(\"Accuracy on test data: \", accuracy)"
   ]
  },
  {
   "cell_type": "markdown",
   "id": "dcda5b9a",
   "metadata": {
    "papermill": {
     "duration": 0.011074,
     "end_time": "2024-08-29T09:12:48.854768",
     "exception": false,
     "start_time": "2024-08-29T09:12:48.843694",
     "status": "completed"
    },
    "tags": []
   },
   "source": [
    "# Building a predictive system"
   ]
  },
  {
   "cell_type": "code",
   "execution_count": 27,
   "id": "0e07e400",
   "metadata": {
    "execution": {
     "iopub.execute_input": "2024-08-29T09:12:48.880240Z",
     "iopub.status.busy": "2024-08-29T09:12:48.879658Z",
     "iopub.status.idle": "2024-08-29T09:12:48.888897Z",
     "shell.execute_reply": "2024-08-29T09:12:48.887489Z"
    },
    "papermill": {
     "duration": 0.02549,
     "end_time": "2024-08-29T09:12:48.892016",
     "exception": false,
     "start_time": "2024-08-29T09:12:48.866526",
     "status": "completed"
    },
    "tags": []
   },
   "outputs": [
    {
     "data": {
      "text/plain": [
       "<Compressed Sparse Row sparse matrix of dtype 'float64'\n",
       "\twith 13 stored elements and shape (1, 17128)>"
      ]
     },
     "execution_count": 27,
     "metadata": {},
     "output_type": "execute_result"
    }
   ],
   "source": [
    "X_test[0]"
   ]
  },
  {
   "cell_type": "code",
   "execution_count": 28,
   "id": "bdc46153",
   "metadata": {
    "execution": {
     "iopub.execute_input": "2024-08-29T09:12:48.922581Z",
     "iopub.status.busy": "2024-08-29T09:12:48.922155Z",
     "iopub.status.idle": "2024-08-29T09:12:48.930013Z",
     "shell.execute_reply": "2024-08-29T09:12:48.928545Z"
    },
    "papermill": {
     "duration": 0.023682,
     "end_time": "2024-08-29T09:12:48.932494",
     "exception": false,
     "start_time": "2024-08-29T09:12:48.908812",
     "status": "completed"
    },
    "tags": []
   },
   "outputs": [
    {
     "name": "stdout",
     "output_type": "stream",
     "text": [
      "Fake news\n"
     ]
    }
   ],
   "source": [
    "input_data=X_test[0]\n",
    "\n",
    "prediction=model.predict(input_data)\n",
    "\n",
    "if prediction[0]==0:\n",
    "    print(\"Real news\")\n",
    "    \n",
    "else:\n",
    "    print(\"Fake news\")"
   ]
  },
  {
   "cell_type": "code",
   "execution_count": 29,
   "id": "8d9c8d71",
   "metadata": {
    "execution": {
     "iopub.execute_input": "2024-08-29T09:12:48.957941Z",
     "iopub.status.busy": "2024-08-29T09:12:48.957391Z",
     "iopub.status.idle": "2024-08-29T09:12:48.966119Z",
     "shell.execute_reply": "2024-08-29T09:12:48.964951Z"
    },
    "papermill": {
     "duration": 0.024124,
     "end_time": "2024-08-29T09:12:48.968458",
     "exception": false,
     "start_time": "2024-08-29T09:12:48.944334",
     "status": "completed"
    },
    "tags": []
   },
   "outputs": [
    {
     "data": {
      "text/plain": [
       "1"
      ]
     },
     "execution_count": 29,
     "metadata": {},
     "output_type": "execute_result"
    }
   ],
   "source": [
    "y_test[0]"
   ]
  },
  {
   "cell_type": "code",
   "execution_count": 30,
   "id": "d154d6e2",
   "metadata": {
    "execution": {
     "iopub.execute_input": "2024-08-29T09:12:49.000875Z",
     "iopub.status.busy": "2024-08-29T09:12:48.999707Z",
     "iopub.status.idle": "2024-08-29T09:12:49.008656Z",
     "shell.execute_reply": "2024-08-29T09:12:49.007553Z"
    },
    "papermill": {
     "duration": 0.027896,
     "end_time": "2024-08-29T09:12:49.011061",
     "exception": false,
     "start_time": "2024-08-29T09:12:48.983165",
     "status": "completed"
    },
    "tags": []
   },
   "outputs": [
    {
     "data": {
      "text/plain": [
       "(5200,)"
      ]
     },
     "execution_count": 30,
     "metadata": {},
     "output_type": "execute_result"
    }
   ],
   "source": [
    "y_pred_test=model.predict(X_test_val)\n",
    "y_pred_test.shape"
   ]
  },
  {
   "cell_type": "code",
   "execution_count": 31,
   "id": "ab632ea4",
   "metadata": {
    "execution": {
     "iopub.execute_input": "2024-08-29T09:12:49.036911Z",
     "iopub.status.busy": "2024-08-29T09:12:49.035850Z",
     "iopub.status.idle": "2024-08-29T09:12:49.051063Z",
     "shell.execute_reply": "2024-08-29T09:12:49.049816Z"
    },
    "papermill": {
     "duration": 0.0312,
     "end_time": "2024-08-29T09:12:49.053961",
     "exception": false,
     "start_time": "2024-08-29T09:12:49.022761",
     "status": "completed"
    },
    "tags": []
   },
   "outputs": [
    {
     "data": {
      "text/html": [
       "<div>\n",
       "<style scoped>\n",
       "    .dataframe tbody tr th:only-of-type {\n",
       "        vertical-align: middle;\n",
       "    }\n",
       "\n",
       "    .dataframe tbody tr th {\n",
       "        vertical-align: top;\n",
       "    }\n",
       "\n",
       "    .dataframe thead th {\n",
       "        text-align: right;\n",
       "    }\n",
       "</style>\n",
       "<table border=\"1\" class=\"dataframe\">\n",
       "  <thead>\n",
       "    <tr style=\"text-align: right;\">\n",
       "      <th></th>\n",
       "      <th>id</th>\n",
       "    </tr>\n",
       "  </thead>\n",
       "  <tbody>\n",
       "    <tr>\n",
       "      <th>0</th>\n",
       "      <td>20800</td>\n",
       "    </tr>\n",
       "    <tr>\n",
       "      <th>1</th>\n",
       "      <td>20801</td>\n",
       "    </tr>\n",
       "    <tr>\n",
       "      <th>2</th>\n",
       "      <td>20802</td>\n",
       "    </tr>\n",
       "    <tr>\n",
       "      <th>3</th>\n",
       "      <td>20803</td>\n",
       "    </tr>\n",
       "    <tr>\n",
       "      <th>4</th>\n",
       "      <td>20804</td>\n",
       "    </tr>\n",
       "    <tr>\n",
       "      <th>...</th>\n",
       "      <td>...</td>\n",
       "    </tr>\n",
       "    <tr>\n",
       "      <th>5195</th>\n",
       "      <td>25995</td>\n",
       "    </tr>\n",
       "    <tr>\n",
       "      <th>5196</th>\n",
       "      <td>25996</td>\n",
       "    </tr>\n",
       "    <tr>\n",
       "      <th>5197</th>\n",
       "      <td>25997</td>\n",
       "    </tr>\n",
       "    <tr>\n",
       "      <th>5198</th>\n",
       "      <td>25998</td>\n",
       "    </tr>\n",
       "    <tr>\n",
       "      <th>5199</th>\n",
       "      <td>25999</td>\n",
       "    </tr>\n",
       "  </tbody>\n",
       "</table>\n",
       "<p>5200 rows × 1 columns</p>\n",
       "</div>"
      ],
      "text/plain": [
       "         id\n",
       "0     20800\n",
       "1     20801\n",
       "2     20802\n",
       "3     20803\n",
       "4     20804\n",
       "...     ...\n",
       "5195  25995\n",
       "5196  25996\n",
       "5197  25997\n",
       "5198  25998\n",
       "5199  25999\n",
       "\n",
       "[5200 rows x 1 columns]"
      ]
     },
     "execution_count": 31,
     "metadata": {},
     "output_type": "execute_result"
    }
   ],
   "source": [
    "test_data_id=pd.DataFrame(test_data_id)\n",
    "test_data_id"
   ]
  },
  {
   "cell_type": "code",
   "execution_count": 32,
   "id": "e9e13b95",
   "metadata": {
    "execution": {
     "iopub.execute_input": "2024-08-29T09:12:49.085914Z",
     "iopub.status.busy": "2024-08-29T09:12:49.085379Z",
     "iopub.status.idle": "2024-08-29T09:12:49.098066Z",
     "shell.execute_reply": "2024-08-29T09:12:49.096831Z"
    },
    "papermill": {
     "duration": 0.02901,
     "end_time": "2024-08-29T09:12:49.100746",
     "exception": false,
     "start_time": "2024-08-29T09:12:49.071736",
     "status": "completed"
    },
    "tags": []
   },
   "outputs": [
    {
     "data": {
      "text/html": [
       "<div>\n",
       "<style scoped>\n",
       "    .dataframe tbody tr th:only-of-type {\n",
       "        vertical-align: middle;\n",
       "    }\n",
       "\n",
       "    .dataframe tbody tr th {\n",
       "        vertical-align: top;\n",
       "    }\n",
       "\n",
       "    .dataframe thead th {\n",
       "        text-align: right;\n",
       "    }\n",
       "</style>\n",
       "<table border=\"1\" class=\"dataframe\">\n",
       "  <thead>\n",
       "    <tr style=\"text-align: right;\">\n",
       "      <th></th>\n",
       "      <th>0</th>\n",
       "    </tr>\n",
       "  </thead>\n",
       "  <tbody>\n",
       "    <tr>\n",
       "      <th>0</th>\n",
       "      <td>0</td>\n",
       "    </tr>\n",
       "    <tr>\n",
       "      <th>1</th>\n",
       "      <td>1</td>\n",
       "    </tr>\n",
       "    <tr>\n",
       "      <th>2</th>\n",
       "      <td>1</td>\n",
       "    </tr>\n",
       "    <tr>\n",
       "      <th>3</th>\n",
       "      <td>0</td>\n",
       "    </tr>\n",
       "    <tr>\n",
       "      <th>4</th>\n",
       "      <td>1</td>\n",
       "    </tr>\n",
       "    <tr>\n",
       "      <th>...</th>\n",
       "      <td>...</td>\n",
       "    </tr>\n",
       "    <tr>\n",
       "      <th>5195</th>\n",
       "      <td>0</td>\n",
       "    </tr>\n",
       "    <tr>\n",
       "      <th>5196</th>\n",
       "      <td>0</td>\n",
       "    </tr>\n",
       "    <tr>\n",
       "      <th>5197</th>\n",
       "      <td>0</td>\n",
       "    </tr>\n",
       "    <tr>\n",
       "      <th>5198</th>\n",
       "      <td>1</td>\n",
       "    </tr>\n",
       "    <tr>\n",
       "      <th>5199</th>\n",
       "      <td>0</td>\n",
       "    </tr>\n",
       "  </tbody>\n",
       "</table>\n",
       "<p>5200 rows × 1 columns</p>\n",
       "</div>"
      ],
      "text/plain": [
       "      0\n",
       "0     0\n",
       "1     1\n",
       "2     1\n",
       "3     0\n",
       "4     1\n",
       "...  ..\n",
       "5195  0\n",
       "5196  0\n",
       "5197  0\n",
       "5198  1\n",
       "5199  0\n",
       "\n",
       "[5200 rows x 1 columns]"
      ]
     },
     "execution_count": 32,
     "metadata": {},
     "output_type": "execute_result"
    }
   ],
   "source": [
    "y_pred_res=pd.DataFrame(y_pred_test)\n",
    "y_pred_res"
   ]
  },
  {
   "cell_type": "code",
   "execution_count": 33,
   "id": "7eeec41b",
   "metadata": {
    "execution": {
     "iopub.execute_input": "2024-08-29T09:12:49.128695Z",
     "iopub.status.busy": "2024-08-29T09:12:49.127770Z",
     "iopub.status.idle": "2024-08-29T09:12:49.141924Z",
     "shell.execute_reply": "2024-08-29T09:12:49.140555Z"
    },
    "papermill": {
     "duration": 0.031872,
     "end_time": "2024-08-29T09:12:49.145560",
     "exception": false,
     "start_time": "2024-08-29T09:12:49.113688",
     "status": "completed"
    },
    "tags": []
   },
   "outputs": [
    {
     "data": {
      "text/html": [
       "<div>\n",
       "<style scoped>\n",
       "    .dataframe tbody tr th:only-of-type {\n",
       "        vertical-align: middle;\n",
       "    }\n",
       "\n",
       "    .dataframe tbody tr th {\n",
       "        vertical-align: top;\n",
       "    }\n",
       "\n",
       "    .dataframe thead th {\n",
       "        text-align: right;\n",
       "    }\n",
       "</style>\n",
       "<table border=\"1\" class=\"dataframe\">\n",
       "  <thead>\n",
       "    <tr style=\"text-align: right;\">\n",
       "      <th></th>\n",
       "      <th>label</th>\n",
       "    </tr>\n",
       "  </thead>\n",
       "  <tbody>\n",
       "    <tr>\n",
       "      <th>0</th>\n",
       "      <td>0</td>\n",
       "    </tr>\n",
       "    <tr>\n",
       "      <th>1</th>\n",
       "      <td>1</td>\n",
       "    </tr>\n",
       "    <tr>\n",
       "      <th>2</th>\n",
       "      <td>1</td>\n",
       "    </tr>\n",
       "    <tr>\n",
       "      <th>3</th>\n",
       "      <td>0</td>\n",
       "    </tr>\n",
       "    <tr>\n",
       "      <th>4</th>\n",
       "      <td>1</td>\n",
       "    </tr>\n",
       "    <tr>\n",
       "      <th>...</th>\n",
       "      <td>...</td>\n",
       "    </tr>\n",
       "    <tr>\n",
       "      <th>5195</th>\n",
       "      <td>0</td>\n",
       "    </tr>\n",
       "    <tr>\n",
       "      <th>5196</th>\n",
       "      <td>0</td>\n",
       "    </tr>\n",
       "    <tr>\n",
       "      <th>5197</th>\n",
       "      <td>0</td>\n",
       "    </tr>\n",
       "    <tr>\n",
       "      <th>5198</th>\n",
       "      <td>1</td>\n",
       "    </tr>\n",
       "    <tr>\n",
       "      <th>5199</th>\n",
       "      <td>0</td>\n",
       "    </tr>\n",
       "  </tbody>\n",
       "</table>\n",
       "<p>5200 rows × 1 columns</p>\n",
       "</div>"
      ],
      "text/plain": [
       "      label\n",
       "0         0\n",
       "1         1\n",
       "2         1\n",
       "3         0\n",
       "4         1\n",
       "...     ...\n",
       "5195      0\n",
       "5196      0\n",
       "5197      0\n",
       "5198      1\n",
       "5199      0\n",
       "\n",
       "[5200 rows x 1 columns]"
      ]
     },
     "execution_count": 33,
     "metadata": {},
     "output_type": "execute_result"
    }
   ],
   "source": [
    "# y_pred_res.columns = y_pred_res.columns.str.replace('0', 'label')\n",
    "y_pred_res = y_pred_res.rename(columns={0: 'label'})\n",
    "y_pred_res"
   ]
  },
  {
   "cell_type": "code",
   "execution_count": 34,
   "id": "6ad64d5e",
   "metadata": {
    "execution": {
     "iopub.execute_input": "2024-08-29T09:12:49.182325Z",
     "iopub.status.busy": "2024-08-29T09:12:49.181367Z",
     "iopub.status.idle": "2024-08-29T09:12:49.194959Z",
     "shell.execute_reply": "2024-08-29T09:12:49.193378Z"
    },
    "papermill": {
     "duration": 0.034303,
     "end_time": "2024-08-29T09:12:49.197648",
     "exception": false,
     "start_time": "2024-08-29T09:12:49.163345",
     "status": "completed"
    },
    "tags": []
   },
   "outputs": [
    {
     "data": {
      "text/html": [
       "<div>\n",
       "<style scoped>\n",
       "    .dataframe tbody tr th:only-of-type {\n",
       "        vertical-align: middle;\n",
       "    }\n",
       "\n",
       "    .dataframe tbody tr th {\n",
       "        vertical-align: top;\n",
       "    }\n",
       "\n",
       "    .dataframe thead th {\n",
       "        text-align: right;\n",
       "    }\n",
       "</style>\n",
       "<table border=\"1\" class=\"dataframe\">\n",
       "  <thead>\n",
       "    <tr style=\"text-align: right;\">\n",
       "      <th></th>\n",
       "      <th>id</th>\n",
       "      <th>label</th>\n",
       "    </tr>\n",
       "  </thead>\n",
       "  <tbody>\n",
       "    <tr>\n",
       "      <th>0</th>\n",
       "      <td>20800</td>\n",
       "      <td>0</td>\n",
       "    </tr>\n",
       "    <tr>\n",
       "      <th>1</th>\n",
       "      <td>20801</td>\n",
       "      <td>1</td>\n",
       "    </tr>\n",
       "    <tr>\n",
       "      <th>2</th>\n",
       "      <td>20802</td>\n",
       "      <td>1</td>\n",
       "    </tr>\n",
       "    <tr>\n",
       "      <th>3</th>\n",
       "      <td>20803</td>\n",
       "      <td>0</td>\n",
       "    </tr>\n",
       "    <tr>\n",
       "      <th>4</th>\n",
       "      <td>20804</td>\n",
       "      <td>1</td>\n",
       "    </tr>\n",
       "    <tr>\n",
       "      <th>...</th>\n",
       "      <td>...</td>\n",
       "      <td>...</td>\n",
       "    </tr>\n",
       "    <tr>\n",
       "      <th>5195</th>\n",
       "      <td>25995</td>\n",
       "      <td>0</td>\n",
       "    </tr>\n",
       "    <tr>\n",
       "      <th>5196</th>\n",
       "      <td>25996</td>\n",
       "      <td>0</td>\n",
       "    </tr>\n",
       "    <tr>\n",
       "      <th>5197</th>\n",
       "      <td>25997</td>\n",
       "      <td>0</td>\n",
       "    </tr>\n",
       "    <tr>\n",
       "      <th>5198</th>\n",
       "      <td>25998</td>\n",
       "      <td>1</td>\n",
       "    </tr>\n",
       "    <tr>\n",
       "      <th>5199</th>\n",
       "      <td>25999</td>\n",
       "      <td>0</td>\n",
       "    </tr>\n",
       "  </tbody>\n",
       "</table>\n",
       "<p>5200 rows × 2 columns</p>\n",
       "</div>"
      ],
      "text/plain": [
       "         id  label\n",
       "0     20800      0\n",
       "1     20801      1\n",
       "2     20802      1\n",
       "3     20803      0\n",
       "4     20804      1\n",
       "...     ...    ...\n",
       "5195  25995      0\n",
       "5196  25996      0\n",
       "5197  25997      0\n",
       "5198  25998      1\n",
       "5199  25999      0\n",
       "\n",
       "[5200 rows x 2 columns]"
      ]
     },
     "execution_count": 34,
     "metadata": {},
     "output_type": "execute_result"
    }
   ],
   "source": [
    "# result=test_data_id.append(y_pred_res)\n",
    "result=pd.concat([test_data_id, y_pred_res], axis=1)\n",
    "\n",
    "result"
   ]
  },
  {
   "cell_type": "code",
   "execution_count": 35,
   "id": "5e68345d",
   "metadata": {
    "execution": {
     "iopub.execute_input": "2024-08-29T09:12:49.226851Z",
     "iopub.status.busy": "2024-08-29T09:12:49.226347Z",
     "iopub.status.idle": "2024-08-29T09:12:49.243766Z",
     "shell.execute_reply": "2024-08-29T09:12:49.242575Z"
    },
    "papermill": {
     "duration": 0.034945,
     "end_time": "2024-08-29T09:12:49.246601",
     "exception": false,
     "start_time": "2024-08-29T09:12:49.211656",
     "status": "completed"
    },
    "tags": []
   },
   "outputs": [],
   "source": [
    "# Export to CSV\n",
    "result.to_csv('my_data.csv', index=False)"
   ]
  },
  {
   "cell_type": "code",
   "execution_count": null,
   "id": "f93bd25f",
   "metadata": {
    "papermill": {
     "duration": 0.012274,
     "end_time": "2024-08-29T09:12:49.271791",
     "exception": false,
     "start_time": "2024-08-29T09:12:49.259517",
     "status": "completed"
    },
    "tags": []
   },
   "outputs": [],
   "source": []
  }
 ],
 "metadata": {
  "kaggle": {
   "accelerator": "none",
   "dataSources": [
    {
     "databundleVersionId": 109592,
     "sourceId": 8317,
     "sourceType": "competition"
    }
   ],
   "dockerImageVersionId": 30761,
   "isGpuEnabled": false,
   "isInternetEnabled": true,
   "language": "python",
   "sourceType": "notebook"
  },
  "kernelspec": {
   "display_name": "Python 3",
   "language": "python",
   "name": "python3"
  },
  "language_info": {
   "codemirror_mode": {
    "name": "ipython",
    "version": 3
   },
   "file_extension": ".py",
   "mimetype": "text/x-python",
   "name": "python",
   "nbconvert_exporter": "python",
   "pygments_lexer": "ipython3",
   "version": "3.10.14"
  },
  "papermill": {
   "default_parameters": {},
   "duration": 69.294111,
   "end_time": "2024-08-29T09:12:50.007669",
   "environment_variables": {},
   "exception": null,
   "input_path": "__notebook__.ipynb",
   "output_path": "__notebook__.ipynb",
   "parameters": {},
   "start_time": "2024-08-29T09:11:40.713558",
   "version": "2.6.0"
  }
 },
 "nbformat": 4,
 "nbformat_minor": 5
}
